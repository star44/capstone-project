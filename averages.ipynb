{
 "cells": [
  {
   "cell_type": "markdown",
   "metadata": {},
   "source": [
    "# Set up dask client\n"
   ]
  },
  {
   "cell_type": "code",
   "execution_count": 3,
   "metadata": {},
   "outputs": [
    {
     "name": "stdout",
     "output_type": "stream",
     "text": [
      "dataset_weekends.csv\r\n"
     ]
    }
   ],
   "source": [
    "! ls *csv"
   ]
  },
  {
   "cell_type": "code",
   "execution_count": 11,
   "metadata": {},
   "outputs": [
    {
     "data": {
      "text/html": [
       "<div>\n",
       "<style scoped>\n",
       "    .dataframe tbody tr th:only-of-type {\n",
       "        vertical-align: middle;\n",
       "    }\n",
       "\n",
       "    .dataframe tbody tr th {\n",
       "        vertical-align: top;\n",
       "    }\n",
       "\n",
       "    .dataframe thead th {\n",
       "        text-align: right;\n",
       "    }\n",
       "</style>\n",
       "<table border=\"1\" class=\"dataframe\">\n",
       "  <thead>\n",
       "    <tr style=\"text-align: right;\">\n",
       "      <th></th>\n",
       "      <th>nmi_uuid</th>\n",
       "      <th>date</th>\n",
       "      <th>ekw1</th>\n",
       "      <th>ekw2</th>\n",
       "      <th>ekw3</th>\n",
       "      <th>ekw4</th>\n",
       "      <th>ekw5</th>\n",
       "      <th>ekw6</th>\n",
       "      <th>ekw7</th>\n",
       "      <th>ekw8</th>\n",
       "      <th>...</th>\n",
       "      <th>ekw39</th>\n",
       "      <th>ekw40</th>\n",
       "      <th>ekw41</th>\n",
       "      <th>ekw42</th>\n",
       "      <th>ekw43</th>\n",
       "      <th>ekw44</th>\n",
       "      <th>ekw45</th>\n",
       "      <th>ekw46</th>\n",
       "      <th>ekw47</th>\n",
       "      <th>ekw48</th>\n",
       "    </tr>\n",
       "  </thead>\n",
       "  <tbody>\n",
       "    <tr>\n",
       "      <th>0</th>\n",
       "      <td>ed8a8330-7dae-4ebe-a5c8-6f9404b9ed97</td>\n",
       "      <td>2018-02-03</td>\n",
       "      <td>15.192</td>\n",
       "      <td>10.604</td>\n",
       "      <td>9.540</td>\n",
       "      <td>9.286</td>\n",
       "      <td>9.886</td>\n",
       "      <td>8.496</td>\n",
       "      <td>8.362</td>\n",
       "      <td>7.936</td>\n",
       "      <td>...</td>\n",
       "      <td>9.214</td>\n",
       "      <td>16.342</td>\n",
       "      <td>15.406</td>\n",
       "      <td>18.612</td>\n",
       "      <td>19.594</td>\n",
       "      <td>16.332</td>\n",
       "      <td>13.056</td>\n",
       "      <td>11.608</td>\n",
       "      <td>14.394</td>\n",
       "      <td>11.632</td>\n",
       "    </tr>\n",
       "    <tr>\n",
       "      <th>1</th>\n",
       "      <td>ed8a8330-7dae-4ebe-a5c8-6f9404b9ed97</td>\n",
       "      <td>2018-02-04</td>\n",
       "      <td>12.740</td>\n",
       "      <td>11.592</td>\n",
       "      <td>10.798</td>\n",
       "      <td>11.090</td>\n",
       "      <td>10.790</td>\n",
       "      <td>11.180</td>\n",
       "      <td>11.224</td>\n",
       "      <td>10.570</td>\n",
       "      <td>...</td>\n",
       "      <td>14.490</td>\n",
       "      <td>14.354</td>\n",
       "      <td>11.082</td>\n",
       "      <td>11.426</td>\n",
       "      <td>12.078</td>\n",
       "      <td>12.482</td>\n",
       "      <td>13.038</td>\n",
       "      <td>11.298</td>\n",
       "      <td>10.920</td>\n",
       "      <td>11.612</td>\n",
       "    </tr>\n",
       "    <tr>\n",
       "      <th>2</th>\n",
       "      <td>ed8a8330-7dae-4ebe-a5c8-6f9404b9ed97</td>\n",
       "      <td>2018-02-10</td>\n",
       "      <td>8.128</td>\n",
       "      <td>6.408</td>\n",
       "      <td>5.932</td>\n",
       "      <td>6.530</td>\n",
       "      <td>7.798</td>\n",
       "      <td>6.310</td>\n",
       "      <td>5.790</td>\n",
       "      <td>7.720</td>\n",
       "      <td>...</td>\n",
       "      <td>9.444</td>\n",
       "      <td>17.104</td>\n",
       "      <td>12.032</td>\n",
       "      <td>15.442</td>\n",
       "      <td>14.844</td>\n",
       "      <td>11.848</td>\n",
       "      <td>12.878</td>\n",
       "      <td>14.720</td>\n",
       "      <td>11.002</td>\n",
       "      <td>16.240</td>\n",
       "    </tr>\n",
       "    <tr>\n",
       "      <th>3</th>\n",
       "      <td>ed8a8330-7dae-4ebe-a5c8-6f9404b9ed97</td>\n",
       "      <td>2018-02-11</td>\n",
       "      <td>8.566</td>\n",
       "      <td>8.950</td>\n",
       "      <td>9.842</td>\n",
       "      <td>7.952</td>\n",
       "      <td>10.110</td>\n",
       "      <td>9.262</td>\n",
       "      <td>9.326</td>\n",
       "      <td>9.202</td>\n",
       "      <td>...</td>\n",
       "      <td>13.354</td>\n",
       "      <td>16.060</td>\n",
       "      <td>15.406</td>\n",
       "      <td>13.020</td>\n",
       "      <td>14.538</td>\n",
       "      <td>14.678</td>\n",
       "      <td>12.000</td>\n",
       "      <td>10.712</td>\n",
       "      <td>8.834</td>\n",
       "      <td>8.602</td>\n",
       "    </tr>\n",
       "    <tr>\n",
       "      <th>4</th>\n",
       "      <td>ed8a8330-7dae-4ebe-a5c8-6f9404b9ed97</td>\n",
       "      <td>2018-02-17</td>\n",
       "      <td>11.164</td>\n",
       "      <td>11.848</td>\n",
       "      <td>10.672</td>\n",
       "      <td>10.864</td>\n",
       "      <td>12.272</td>\n",
       "      <td>10.894</td>\n",
       "      <td>11.284</td>\n",
       "      <td>10.094</td>\n",
       "      <td>...</td>\n",
       "      <td>14.466</td>\n",
       "      <td>4.096</td>\n",
       "      <td>18.278</td>\n",
       "      <td>16.298</td>\n",
       "      <td>14.402</td>\n",
       "      <td>14.344</td>\n",
       "      <td>13.460</td>\n",
       "      <td>12.142</td>\n",
       "      <td>10.570</td>\n",
       "      <td>10.648</td>\n",
       "    </tr>\n",
       "  </tbody>\n",
       "</table>\n",
       "<p>5 rows × 50 columns</p>\n",
       "</div>"
      ],
      "text/plain": [
       "                               nmi_uuid        date    ekw1    ekw2    ekw3  \\\n",
       "0  ed8a8330-7dae-4ebe-a5c8-6f9404b9ed97  2018-02-03  15.192  10.604   9.540   \n",
       "1  ed8a8330-7dae-4ebe-a5c8-6f9404b9ed97  2018-02-04  12.740  11.592  10.798   \n",
       "2  ed8a8330-7dae-4ebe-a5c8-6f9404b9ed97  2018-02-10   8.128   6.408   5.932   \n",
       "3  ed8a8330-7dae-4ebe-a5c8-6f9404b9ed97  2018-02-11   8.566   8.950   9.842   \n",
       "4  ed8a8330-7dae-4ebe-a5c8-6f9404b9ed97  2018-02-17  11.164  11.848  10.672   \n",
       "\n",
       "     ekw4    ekw5    ekw6    ekw7    ekw8  ...   ekw39   ekw40   ekw41  \\\n",
       "0   9.286   9.886   8.496   8.362   7.936  ...   9.214  16.342  15.406   \n",
       "1  11.090  10.790  11.180  11.224  10.570  ...  14.490  14.354  11.082   \n",
       "2   6.530   7.798   6.310   5.790   7.720  ...   9.444  17.104  12.032   \n",
       "3   7.952  10.110   9.262   9.326   9.202  ...  13.354  16.060  15.406   \n",
       "4  10.864  12.272  10.894  11.284  10.094  ...  14.466   4.096  18.278   \n",
       "\n",
       "    ekw42   ekw43   ekw44   ekw45   ekw46   ekw47   ekw48  \n",
       "0  18.612  19.594  16.332  13.056  11.608  14.394  11.632  \n",
       "1  11.426  12.078  12.482  13.038  11.298  10.920  11.612  \n",
       "2  15.442  14.844  11.848  12.878  14.720  11.002  16.240  \n",
       "3  13.020  14.538  14.678  12.000  10.712   8.834   8.602  \n",
       "4  16.298  14.402  14.344  13.460  12.142  10.570  10.648  \n",
       "\n",
       "[5 rows x 50 columns]"
      ]
     },
     "execution_count": 11,
     "metadata": {},
     "output_type": "execute_result"
    }
   ],
   "source": [
    "import dask.dataframe as dd\n",
    "from dask.distributed import Client, progress\n",
    "\n",
    "client = Client()\n",
    "\n",
    "df = dd.read_csv('nmi_data_20181029__weekends.csv')\n",
    "\n",
    "df.head()"
   ]
  },
  {
   "cell_type": "code",
   "execution_count": 12,
   "metadata": {},
   "outputs": [
    {
     "data": {
      "application/vnd.jupyter.widget-view+json": {
       "model_id": "7d44acd142d74924aa8ba0d8721862bc",
       "version_major": 2,
       "version_minor": 0
      },
      "text/plain": [
       "VBox()"
      ]
     },
     "metadata": {},
     "output_type": "display_data"
    }
   ],
   "source": [
    "nmi_column = df.columns[0]\n",
    "data_columns = df.columns[2:]\n",
    "means = df.groupby('nmi_uuid')[[f'ekw{i+1}' for i in range(48)]].mean()\n",
    "\n",
    "means = client.compute(means)\n",
    "progress(means)"
   ]
  },
  {
   "cell_type": "code",
   "execution_count": 13,
   "metadata": {},
   "outputs": [
    {
     "name": "stdout",
     "output_type": "stream",
     "text": [
      "Done!\n"
     ]
    }
   ],
   "source": [
    "means.result().to_csv('weekday_groupby_means.csv')\n",
    "\n",
    "print('Done!')"
   ]
  },
  {
   "cell_type": "markdown",
   "metadata": {},
   "source": [
    "# Read in reduced dataset to memory and perform clustering"
   ]
  },
  {
   "cell_type": "code",
   "execution_count": null,
   "metadata": {},
   "outputs": [],
   "source": []
  }
 ],
 "metadata": {
  "kernelspec": {
   "display_name": "Python 3",
   "language": "python",
   "name": "python3"
  },
  "language_info": {
   "codemirror_mode": {
    "name": "ipython",
    "version": 3
   },
   "file_extension": ".py",
   "mimetype": "text/x-python",
   "name": "python",
   "nbconvert_exporter": "python",
   "pygments_lexer": "ipython3",
   "version": "3.7.2"
  }
 },
 "nbformat": 4,
 "nbformat_minor": 2
}
