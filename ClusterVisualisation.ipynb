{
 "cells": [
  {
   "cell_type": "markdown",
   "metadata": {},
   "source": [
    "# Cluster Visualisation\n",
    "\n",
    "Trying to keep this notebook as short and snappy as possible. Just reading in the groupby-mean results of the weekends/weekdays data and running K-Means. Based on the outputs of the ClusteringTest notebook, we know that the following cluster config will work best:\n",
    "\n",
    "* Weekends: 8 Clusters\n",
    "* Weekdays: 10 Clusters\n",
    "\n",
    "We are good with hardcoding this into the notebook."
   ]
  },
  {
   "cell_type": "code",
   "execution_count": 1,
   "metadata": {},
   "outputs": [
    {
     "name": "stdout",
     "output_type": "stream",
     "text": [
      "total 156656392\r\n",
      "-rw-r--r--  1 sarmadtarar  staff      3258527 23 Apr 16:47 dataset_sample.csv\r\n",
      "-rw-r--r--@ 1 sarmadtarar  staff    176473873 27 Apr 13:30 groupby_results_weekdayy_groupby_means.csv\r\n",
      "-rw-r--r--@ 1 sarmadtarar  staff    169368141 27 Apr 13:30 groupby_results_weekend_groupby_means.csv\r\n",
      "-rw-r--r--@ 1 sarmadtarar  staff  39929480142 24 Apr 17:12 qut_it_capstone_ailbatross_20181029_nmi_data_20181029.csv\r\n",
      "-rw-r--r--@ 1 sarmadtarar  staff  28630797979 25 Apr 16:20 weekday_split_weekdays.csv\r\n",
      "-rw-r--r--@ 1 sarmadtarar  staff  11298682219 25 Apr 16:30 weekday_split_weekends.csv\r\n"
     ]
    }
   ],
   "source": [
    "! ls -l ../dataset/"
   ]
  },
  {
   "cell_type": "code",
   "execution_count": 10,
   "metadata": {},
   "outputs": [],
   "source": [
    "from sklearn.preprocessing import MinMaxScaler\n",
    "import pandas as pd\n",
    "\n",
    "def get_df_from_csv(filename):\n",
    "    scaler = MinMaxScaler()\n",
    "    numeric_columns = [f'ekw{i+1}' for i in range(48)]\n",
    "    df = pd.read_csv(filename, index_col='nmi_uuid')\n",
    "    df[numeric_columns] = scaler.fit_transform(\n",
    "                                    df[numeric_columns].transpose()\n",
    "                                ).transpose()\n",
    "    return df[(df[numeric_columns] > 0.99).any(axis=1)]\n",
    "\n",
    "weekend_df = get_df_from_csv('../dataset/groupby_results_weekend_groupby_means.csv')\n",
    "weekday_df = get_df_from_csv('../dataset/groupby_results_weekdayy_groupby_means.csv')\n"
   ]
  },
  {
   "cell_type": "code",
   "execution_count": null,
   "metadata": {},
   "outputs": [],
   "source": []
  },
  {
   "cell_type": "code",
   "execution_count": null,
   "metadata": {},
   "outputs": [],
   "source": []
  }
 ],
 "metadata": {
  "kernelspec": {
   "display_name": "Python 3",
   "language": "python",
   "name": "python3"
  },
  "language_info": {
   "codemirror_mode": {
    "name": "ipython",
    "version": 3
   },
   "file_extension": ".py",
   "mimetype": "text/x-python",
   "name": "python",
   "nbconvert_exporter": "python",
   "pygments_lexer": "ipython3",
   "version": "3.7.1"
  }
 },
 "nbformat": 4,
 "nbformat_minor": 2
}
